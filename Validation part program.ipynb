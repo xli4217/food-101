{
 "cells": [
  {
   "cell_type": "code",
   "execution_count": null,
   "metadata": {
    "_cell_guid": "b1076dfc-b9ad-4769-8c92-a6c4dae69d19",
    "_uuid": "8f2839f25d086af736a60e9eeb907d3b93b6e0e5"
   },
   "outputs": [],
   "source": [
    "# This Python 3 environment comes with many helpful analytics libraries installed\n",
    "# It is defined by the kaggle/python docker image: https://github.com/kaggle/docker-python\n",
    "# For example, here's several helpful packages to load in \n",
    "\n",
    "import numpy as np # linear algebra\n",
    "import pandas as pd # data processing, CSV file I/O (e.g. pd.read_csv)\n",
    "\n",
    "# Input data files are available in the \"../input/\" directory.\n",
    "# For example, running this (by clicking run or pressing Shift+Enter) will list the files in the input directory\n",
    "import matplotlib.pyplot as plt\n",
    "from skimage.data import imread\n",
    "import os,cv2\n",
    "from keras.models import Sequential, Model, load_model\n",
    "print(os.listdir(\"../input\"))\n",
    "\n",
    "# Any results you write to the current directory are saved as output."
   ]
  },
  {
   "cell_type": "code",
   "execution_count": null,
   "metadata": {
    "_cell_guid": "79c7e3d0-c299-4dcb-8224-4455121ee9b0",
    "_uuid": "d629ff2d2480ee46fbb7e2d37f6b5fab8052498a"
   },
   "outputs": [],
   "source": [
    "train = pd.read_csv('../input/bufoodphone/train.csv')\n",
    "test = pd.read_csv('../input/bufoodphone/test.csv')\n",
    "train.head(5)\n",
    "\n"
   ]
  },
  {
   "cell_type": "code",
   "execution_count": null,
   "metadata": {
    "_uuid": "997ca6c2f2af7cb739fc044a9321987c09632731"
   },
   "outputs": [],
   "source": [
    "food_model = load_model(filepath='../input/foodphone-model1/model.h5')"
   ]
  },
  {
   "cell_type": "code",
   "execution_count": null,
   "metadata": {
    "_uuid": "651d9a0dba9204f85f0b2096c911e0bd0938d183"
   },
   "outputs": [],
   "source": [
    "#food_model.summary()"
   ]
  },
  {
   "cell_type": "markdown",
   "metadata": {
    "_uuid": "58ef4a10037038184c0fc3b130a15136abc5da01"
   },
   "source": [
    "## Randomly select 75 pics out of 750 pics from 101 classes (different random state )"
   ]
  },
  {
   "cell_type": "markdown",
   "metadata": {
    "_uuid": "1c48a85073afb54686d40b3f272f60baeba6ca7d"
   },
   "source": [
    "### Validate  with 10% data"
   ]
  },
  {
   "cell_type": "markdown",
   "metadata": {
    "_uuid": "5596a431afa966e714cefc6f900b8bb667bc7f40"
   },
   "source": [
    "### Because we use cross-validation, we don't have pure validation dataset."
   ]
  },
  {
   "cell_type": "code",
   "execution_count": null,
   "metadata": {
    "_uuid": "ac4d2d0be5f9f99774672c528e10e0ae89db1a70"
   },
   "outputs": [],
   "source": [
    "y = train.food_type"
   ]
  },
  {
   "cell_type": "code",
   "execution_count": null,
   "metadata": {
    "_uuid": "47f31fffd7323d909828916cbfc08b312bf65461"
   },
   "outputs": [],
   "source": [
    "#100 / 750"
   ]
  },
  {
   "cell_type": "code",
   "execution_count": null,
   "metadata": {
    "_uuid": "e08f0cf742fdff517154ec7a0912ca1d983e0b3a"
   },
   "outputs": [],
   "source": [
    "from sklearn.model_selection import train_test_split\n",
    "x_train, x_val, y_train, y_val = train_test_split(train.index, train.food_type, test_size=0.1, random_state=33, stratify=train.food_type)\n",
    "#x_val, x_test, y_val, y_test = train_test_split(x_val, y_val, test_size=0.1, random_state=1, stratify=y_val)"
   ]
  },
  {
   "cell_type": "code",
   "execution_count": null,
   "metadata": {
    "_uuid": "a93fc7e788403a90b60b3fcf5486c88331c82dc5"
   },
   "outputs": [],
   "source": [
    "print(x_val)"
   ]
  },
  {
   "cell_type": "code",
   "execution_count": null,
   "metadata": {
    "_uuid": "abeee6ca736b64e488df970416d118e838a7b837"
   },
   "outputs": [],
   "source": [
    "X = train.iloc[x_val]"
   ]
  },
  {
   "cell_type": "code",
   "execution_count": null,
   "metadata": {
    "_uuid": "ab81af040077df7b2d4148b728ebf26ff6dbd99e",
    "scrolled": true
   },
   "outputs": [],
   "source": [
    "print(X.describe())"
   ]
  },
  {
   "cell_type": "code",
   "execution_count": null,
   "metadata": {
    "_uuid": "dd202b0850488e738d38f44c5441df5a65f07c88"
   },
   "outputs": [],
   "source": [
    "print(y_val.head())"
   ]
  },
  {
   "cell_type": "markdown",
   "metadata": {
    "_uuid": "dd510cd50fd3a269927d81116ac9effa140afdf9"
   },
   "source": [
    "## Resize all the validation images"
   ]
  },
  {
   "cell_type": "code",
   "execution_count": null,
   "metadata": {
    "_uuid": "02444fd69f08e30c9fefac70de506aec82d015a2"
   },
   "outputs": [],
   "source": [
    "from tqdm import tqdm\n",
    "train_dir = '../input/bufoodphone/train_images/train_images'\n",
    "\n",
    "images = []\n",
    "train_types = []\n",
    "\n",
    "train_files = [train_dir + '/' + filename for filename in X.filename]\n",
    "print(len(train_files))"
   ]
  },
  {
   "cell_type": "code",
   "execution_count": null,
   "metadata": {
    "_uuid": "f6730f38af82452746501c2384ae0e951da8b12d"
   },
   "outputs": [],
   "source": [
    "images = []\n",
    "train_types = []\n",
    "for filename in tqdm(train_files):\n",
    "    if filename.endswith('jpg'):\n",
    "        try:\n",
    "            images.append(cv2.resize(cv2.imread(filename), (299,299), interpolation=cv2.INTER_CUBIC))\n",
    "            train_types.append(train[train_dir + '/' + train['filename'] == filename]['food_type'])\n",
    "        except Exception as e:\n",
    "            print(str(e))\n",
    "\n"
   ]
  },
  {
   "cell_type": "code",
   "execution_count": null,
   "metadata": {
    "_uuid": "8d8b43f32da6a8f07f6b5e6c04301866e58dc157"
   },
   "outputs": [],
   "source": [
    "images = np.array(images)\n"
   ]
  },
  {
   "cell_type": "code",
   "execution_count": null,
   "metadata": {
    "_uuid": "60d59c3ef8f5681b1cac9aef6fcd229896497471"
   },
   "outputs": [],
   "source": [
    "print(images.shape)"
   ]
  },
  {
   "cell_type": "code",
   "execution_count": null,
   "metadata": {
    "_uuid": "a5cc4dcbfbd9500e235e35c61af8a9d1f91634c6"
   },
   "outputs": [],
   "source": [
    "#train_types = np.array(train_types)\n",
    "#train_types =train_types[:1000]\n",
    "#print(len(train_types[1]))\n",
    "#print(train_types[20][:1])\n",
    "train_types_arr = np.concatenate(train_types)\n",
    "#train_types_arr.reshape(train_types_arr.shape[0],1)\n",
    "print(train_types_arr.shape)\n"
   ]
  },
  {
   "cell_type": "code",
   "execution_count": null,
   "metadata": {
    "_uuid": "fa40b47d421f88f4f6bf60ca228125958378ba2d"
   },
   "outputs": [],
   "source": [
    "y_val = train_types_arr\n",
    "print(y_val)\n",
    "#print(y_test.shape)"
   ]
  },
  {
   "cell_type": "code",
   "execution_count": null,
   "metadata": {
    "_uuid": "18170131a88bd1d993f0c5c1a381d795d4604bd7"
   },
   "outputs": [],
   "source": [
    "To_class = train.food_type.unique()\n",
    "print(To_class)"
   ]
  },
  {
   "cell_type": "markdown",
   "metadata": {
    "_uuid": "add26acc1365ac03e234e6712da7c382313b2327"
   },
   "source": [
    "## Use trained model to predict images (should be in the training data, the acc should be high)"
   ]
  },
  {
   "cell_type": "code",
   "execution_count": null,
   "metadata": {
    "_uuid": "435e9c3643989871818e93829fdfb9eddc434af9"
   },
   "outputs": [],
   "source": [
    "from keras.applications.inception_v3 import InceptionV3\n",
    "from keras.applications.inception_v3 import preprocess_input, decode_predictions\n",
    "from keras.layers import Input\n",
    "from keras.models import Sequential, Model\n",
    "from keras.layers import Dense, Dropout, Activation, Flatten\n",
    "from keras.layers import Convolution2D, MaxPooling2D, ZeroPadding2D, GlobalAveragePooling2D, AveragePooling2D\n",
    "from keras.layers.normalization import BatchNormalization\n",
    "import keras.backend as K\n",
    "from keras.optimizers import SGD, RMSprop, Adam\n",
    "from keras.regularizers import l2"
   ]
  },
  {
   "cell_type": "code",
   "execution_count": null,
   "metadata": {
    "_uuid": "aa92818d24cd9eff33bbffc69f1bb145e6004ccf"
   },
   "outputs": [],
   "source": [
    "x_val = images\n",
    "print(x_val.shape)"
   ]
  },
  {
   "cell_type": "code",
   "execution_count": null,
   "metadata": {
    "_uuid": "05aa6121de6c8cebf61c9e8b20c63fed768b6dbb"
   },
   "outputs": [],
   "source": [
    "#food_model.summary()"
   ]
  },
  {
   "cell_type": "code",
   "execution_count": null,
   "metadata": {
    "_uuid": "e0438c16deb1194f6c828e90786e984002f8a8bf"
   },
   "outputs": [],
   "source": [
    "y_val_pred = food_model.predict(x_val)"
   ]
  },
  {
   "cell_type": "code",
   "execution_count": null,
   "metadata": {
    "_uuid": "ce8df8c8df27d59c99798ce67a3c6755b0f2166f"
   },
   "outputs": [],
   "source": [
    "y_val_pred_num=np.argmax(y_val_pred, axis = 1)\n",
    "print(y_val_pred_num)"
   ]
  },
  {
   "cell_type": "code",
   "execution_count": null,
   "metadata": {
    "_uuid": "f2e0904ce58be87a7f09188fed8a8c2d703e05d3"
   },
   "outputs": [],
   "source": [
    "def num_to_class(index):\n",
    "    return To_class[index]\n",
    "\n",
    "y_val_pred_class = num_to_class(y_val_pred_num)\n",
    "top_5_preds= np.argpartition(y_val_pred, -5)[:,-5:]\n",
    "top_5_val_class = num_to_class(top_5_preds)\n",
    "print(y_val_pred_class[0])\n",
    "print(top_5_val_class[0])\n"
   ]
  },
  {
   "cell_type": "code",
   "execution_count": null,
   "metadata": {
    "_uuid": "5d305032a871bc72cc16581cf5db9cfa897d4579"
   },
   "outputs": [],
   "source": [
    "from sklearn.metrics import confusion_matrix,accuracy_score"
   ]
  },
  {
   "cell_type": "code",
   "execution_count": null,
   "metadata": {
    "_uuid": "431fd18947873fe5ed94379699887d99eef953e1"
   },
   "outputs": [],
   "source": [
    "cm = confusion_matrix(y_val_pred_class,y_val)"
   ]
  },
  {
   "cell_type": "code",
   "execution_count": null,
   "metadata": {
    "_uuid": "9890c2c63a0e75526ad244bb089e4d2394d06aaa"
   },
   "outputs": [],
   "source": [
    "%%time\n",
    "from sklearn.metrics import confusion_matrix\n",
    "import itertools\n",
    "\n",
    "def plot_confusion_matrix(cm, classes,\n",
    "                          normalize=False,\n",
    "                          title='Confusion matrix',\n",
    "                          cmap=plt.cm.Blues):\n",
    "    \"\"\"\n",
    "    This function prints and plots the confusion matrix.\n",
    "    Normalization can be applied by setting `normalize=True`.\n",
    "    \"\"\"\n",
    "    plt.imshow(cm, interpolation='nearest', cmap=cmap)\n",
    "    plt.title(title)\n",
    "    plt.colorbar()\n",
    "    tick_marks = np.arange(len(classes))\n",
    "    plt.xticks(tick_marks, classes, rotation=90)\n",
    "    plt.yticks(tick_marks, classes)\n",
    "\n",
    "    if normalize:\n",
    "        cm = cm.astype('float') / cm.sum(axis=1)[:, np.newaxis]\n",
    "        print(\"Normalized confusion matrix\")\n",
    "    else:\n",
    "        print('Confusion matrix, without normalization')\n",
    "\n",
    "    print(cm)\n",
    "\n",
    "    thresh = cm.max() / 2.\n",
    "    for i, j in itertools.product(range(cm.shape[0]), range(cm.shape[1])):\n",
    "        plt.text(j, i, cm[i, j],\n",
    "                 horizontalalignment=\"center\",\n",
    "                 color=\"white\" if cm[i, j] > thresh else \"black\")\n",
    "\n",
    "    plt.tight_layout()\n",
    "    plt.ylabel('True label')\n",
    "    plt.xlabel('Predicted label')\n",
    "    \n",
    "\n",
    "# Compute confusion matrix\n",
    "#cnf_matrix = confusion_matrix(y_test, y_pred)\n",
    "np.set_printoptions(precision=2)\n",
    "\n",
    "class_names = [To_class[i] for i in range(101)]\n",
    "\n",
    "plt.figure()\n",
    "fig = plt.gcf()\n",
    "fig.set_size_inches(32, 32)\n",
    "plot_confusion_matrix(cm, classes=class_names,\n",
    "                      title='Confusion matrix, without normalization',\n",
    "                      cmap=plt.cm.Blues)\n",
    "plt.show()"
   ]
  },
  {
   "cell_type": "code",
   "execution_count": null,
   "metadata": {
    "_uuid": "3ff982ba049d2b787ca6ba2a8ea4b32bb8064b77"
   },
   "outputs": [],
   "source": [
    "print(cm)"
   ]
  },
  {
   "cell_type": "code",
   "execution_count": null,
   "metadata": {
    "_uuid": "726786d81ec09c519d0f18b6809319a95f8afe0d"
   },
   "outputs": [],
   "source": [
    "\n",
    "print(accuracy_score(y_val_pred_class,y_val))"
   ]
  },
  {
   "cell_type": "code",
   "execution_count": null,
   "metadata": {
    "_uuid": "01bffa18987e7499588a2fffe5a2d77740dbf559"
   },
   "outputs": [],
   "source": [
    "cm_acc_dis = cm.astype('float') / cm.sum(axis=1)[:, np.newaxis]\n",
    "#array([[1.        , 0.        , 0.        ],\n",
    "#      [1.        , 0.        , 0.        ],\n",
    "#      [0.        , 0.33333333, 0.66666667]])\n",
    "\n",
    "#The diagonal entries are the accuracies of each class\n",
    "acc_dis = cm_acc_dis.diagonal()"
   ]
  },
  {
   "cell_type": "code",
   "execution_count": null,
   "metadata": {
    "_uuid": "62c66eef3d93055b0648a5a434cb30aca4d4e706"
   },
   "outputs": [],
   "source": [
    "print(acc_dis)"
   ]
  },
  {
   "cell_type": "code",
   "execution_count": null,
   "metadata": {
    "_uuid": "b6c9edbb6531d53ad24e756474d7dfdf0b5b859d"
   },
   "outputs": [],
   "source": [
    "\n",
    "import scipy.stats as stats\n",
    "#plt.hist(acc_dis, bins=101)\n",
    "\n",
    "density = stats.gaussian_kde(acc_dis)\n",
    "n, x, _ = plt.hist(acc_dis, bins=101, \n",
    "                   histtype=u'bar', normed=True)  \n",
    "plt.plot(x, density(x),color='red')\n",
    "plt.title('Accuracy by Class histogram')\n",
    "plt.show()\n",
    "\n"
   ]
  },
  {
   "cell_type": "code",
   "execution_count": null,
   "metadata": {
    "_uuid": "7a26ceac86863fcf2e0a266f2fc2cf790352d3d0"
   },
   "outputs": [],
   "source": [
    "from sklearn.metrics import classification_report\n",
    "print(classification_report(y_val_pred_class,y_val))\n"
   ]
  },
  {
   "cell_type": "code",
   "execution_count": null,
   "metadata": {
    "_uuid": "c442e28594a86ab9a881c20549040a8c2cdbcc7a"
   },
   "outputs": [],
   "source": [
    "import random\n",
    "show_sample = random.sample(list(range(images.shape[0])),9)\n",
    "print(show_sample )\n",
    "_, ax = plt.subplots(3,3, figsize=(12,12))\n",
    "for i in range(3):\n",
    "    for j in range(3):\n",
    "        ax[i,j].imshow(cv2.cvtColor(images[show_sample[i*3+j]], cv2.COLOR_BGR2RGB))\n",
    "        ax[i,j].axis('on')\n",
    "        #ax[i,j].set_title(train_types_arr[(i*200)+j], size = 20)\n",
    "        #ax[i,j].set_title(train_types_arr[(i*200)+j], size = 20)\n",
    "        \n",
    "        match =y_val_pred_class[show_sample[i*3+j]]==  y_val[show_sample[i*3+j]]\n",
    "        ec = (0.9, 0, .2)\n",
    "        fc = (0.9, 0, .2)\n",
    "        if match:\n",
    "            ec = (0, .6, .1)\n",
    "            fc = (0, .7, .2)\n",
    "        # predicted label\n",
    "        ax[i,j].text(5,5,\"P: \"+y_val_pred_class[show_sample[i*3+j]],size=15, rotation=0,\n",
    "                ha=\"left\", va=\"top\",\n",
    "                 bbox=dict(boxstyle=\"square\",\n",
    "                       ec=ec,\n",
    "                       fc=fc,\n",
    "                       )\n",
    "                 )\n",
    "        if not match:\n",
    "            # true label\n",
    "            ax[i,j].text(5,50,\"A: \"+y_val[show_sample[i*3+j]],size=15, rotation=0,\n",
    "                ha=\"left\", va=\"top\",\n",
    "                 bbox=dict(boxstyle=\"square\",\n",
    "                       ec=ec,\n",
    "                       fc=fc,\n",
    "                       )\n",
    "                 )\n"
   ]
  },
  {
   "cell_type": "code",
   "execution_count": null,
   "metadata": {
    "_uuid": "68d94d181a5e5c1afb4d0cdd562d8ba70c98cd44"
   },
   "outputs": [],
   "source": [
    "import operator\n",
    "\n",
    "top_5_chances= np.partition(y_val_pred, -5)[:,-5:]\n",
    "print(top_5_chances)\n",
    "\n",
    "print(top_5_val_class)"
   ]
  },
  {
   "cell_type": "code",
   "execution_count": null,
   "metadata": {
    "_uuid": "e3be15e1a2345bdc99e869c06e9c765f29ff47d0"
   },
   "outputs": [],
   "source": [
    "top_5_dict = {top_5_val_class[6187][i]:top_5_chances[6187][i] for i in range(5)}\n",
    "sorted_top_5_dict = sorted(top_5_dict.items(), key=operator.itemgetter(1), reverse=True)"
   ]
  },
  {
   "cell_type": "code",
   "execution_count": null,
   "metadata": {
    "_uuid": "355c0f14a7e509592cb3c8759d1d8ce88f50b2b4"
   },
   "outputs": [],
   "source": [
    "print(sorted_top_5_dict)"
   ]
  },
  {
   "cell_type": "code",
   "execution_count": null,
   "metadata": {
    "_uuid": "bbdc68c75bfffe7cd00cb3274459823f9a3ab237"
   },
   "outputs": [],
   "source": [
    "#print(top_5_preds[0])\n",
    "#print(top_5_chances[0])\n",
    "#print(top_5_dict)\n",
    "#print(sorted_top_5_dict)\n",
    "plt.imshow(cv2.cvtColor(images[6187], cv2.COLOR_BGR2RGB))\n",
    "plt.axis('on')\n",
    "print(\"%s: \"%(\"Top-5 Predict\"))\n",
    "\n",
    "for i in range(5):\n",
    "    print(\"%20s : %7.6f\" %(str(sorted_top_5_dict[i][0]), sorted_top_5_dict[i][1]))"
   ]
  }
 ],
 "metadata": {
  "kernelspec": {
   "display_name": "Python 3",
   "language": "python",
   "name": "python3"
  },
  "language_info": {
   "codemirror_mode": {
    "name": "ipython",
    "version": 3
   },
   "file_extension": ".py",
   "mimetype": "text/x-python",
   "name": "python",
   "nbconvert_exporter": "python",
   "pygments_lexer": "ipython3",
   "version": "3.6.5"
  }
 },
 "nbformat": 4,
 "nbformat_minor": 1
}
